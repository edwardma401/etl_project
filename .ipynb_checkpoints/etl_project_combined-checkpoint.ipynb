{
 "cells": [
  {
   "cell_type": "code",
   "execution_count": null,
   "metadata": {},
   "outputs": [],
   "source": [
    "# Web Scraping "
   ]
  },
  {
   "cell_type": "code",
   "execution_count": 1,
   "metadata": {},
   "outputs": [],
   "source": [
    "from bs4 import BeautifulSoup\n",
    "import requests\n",
    "import csv"
   ]
  },
  {
   "cell_type": "code",
   "execution_count": null,
   "metadata": {},
   "outputs": [],
   "source": [
    "url=\"https://www.imdb.com/chart/top/?ref_=nv_mv_250\""
   ]
  },
  {
   "cell_type": "code",
   "execution_count": null,
   "metadata": {},
   "outputs": [],
   "source": [
    "page= requests.get(url)"
   ]
  },
  {
   "cell_type": "code",
   "execution_count": null,
   "metadata": {},
   "outputs": [],
   "source": [
    "page"
   ]
  },
  {
   "cell_type": "code",
   "execution_count": null,
   "metadata": {},
   "outputs": [],
   "source": [
    "soup= BeautifulSoup(page.text, \"html.parser\")"
   ]
  },
  {
   "cell_type": "code",
   "execution_count": null,
   "metadata": {},
   "outputs": [],
   "source": [
    "soup"
   ]
  },
  {
   "cell_type": "code",
   "execution_count": null,
   "metadata": {},
   "outputs": [],
   "source": [
    "raw_html = soup.find(\"tbody\", {\"class\": \"lister-list\"}).findAll(\"tr\")"
   ]
  },
  {
   "cell_type": "code",
   "execution_count": null,
   "metadata": {},
   "outputs": [],
   "source": [
    "def main_fun():\n",
    "    movie_list = []\n",
    "    for html in raw_html:\n",
    "        title = html.find(\"td\", {\"class\": \"titleColumn\"}).find(\"a\").get_text()\n",
    "        year = html.find(\"td\", {\"class\": \"titleColumn\"}).find(\"span\").getText()[1:5]\n",
    "        rating= html.find(\"td\", {\"class\": \"ratingColumn imdbRating\"}).find(\"strong\").get_text()\n",
    "        rating= float(rating)\n",
    "        \n",
    "        raw_list= [title, year, rating]\n",
    "        movie_list.append(raw_list)\n",
    "        \n",
    "        \n",
    "        create_csv(movie_list)\n",
    "        \n",
    "        "
   ]
  },
  {
   "cell_type": "code",
   "execution_count": null,
   "metadata": {},
   "outputs": [],
   "source": [
    "def create_csv(movies):\n",
    "    with open('movies.csv', 'w', newline='') as csvfile:\n",
    "        writer = csv.writer(csvfile)\n",
    "        row=['Name','Year','Rating']\n",
    "        writer.writerow(row)\n",
    "        for x in range(len(movies)):\n",
    "            row = movies[x]\n",
    "            writer.writerow(row)\n",
    "        csvfile.close()\n",
    "            "
   ]
  },
  {
   "cell_type": "code",
   "execution_count": null,
   "metadata": {},
   "outputs": [],
   "source": [
    "main_fun()"
   ]
  },
  {
   "cell_type": "code",
   "execution_count": null,
   "metadata": {},
   "outputs": [],
   "source": [
    "## NYP times API"
   ]
  },
  {
   "cell_type": "code",
   "execution_count": null,
   "metadata": {},
   "outputs": [],
   "source": [
    "from config import api_key\n",
    "import requests\n",
    "import json\n",
    "import pandas as pd\n",
    "from pprint import pprint\n",
    "import time"
   ]
  },
  {
   "cell_type": "code",
   "execution_count": null,
   "metadata": {},
   "outputs": [],
   "source": [
    "movie_names = []\n",
    "from csv import reader\n",
    "with open(\"movies_utf_8.csv\", 'r') as reading_object:\n",
    "    csv_reader = reader(reading_object)\n",
    "    next(csv_reader)\n",
    "    for i in csv_reader:\n",
    "        movie_names.append(i[0])"
   ]
  },
  {
   "cell_type": "code",
   "execution_count": null,
   "metadata": {},
   "outputs": [],
   "source": [
    "movie_names"
   ]
  },
  {
   "cell_type": "code",
   "execution_count": null,
   "metadata": {},
   "outputs": [],
   "source": [
    "url = 'https://api.nytimes.com/svc/movies/v2/reviews/search.json?'\n",
    "response_list = []\n",
    "alternate_list = []\n",
    "for x in movie_names:\n",
    "    base_url = url + \"query=\" + str(x) + \"&api-key=\" + api_key\n",
    "    response = requests.get(base_url).json()\n",
    "    response_list.append(response)\n",
    "    if response['results'] != []:\n",
    "        alternate_list.append(response['results'][int(0)])\n",
    "    time.sleep(6)"
   ]
  },
  {
   "cell_type": "code",
   "execution_count": null,
   "metadata": {},
   "outputs": [],
   "source": [
    "no_result_count = 0\n",
    "for x in response_list:\n",
    "    if x['results'] == []:\n",
    "        no_result_count += 1\n",
    "print(no_result_count)"
   ]
  },
  {
   "cell_type": "code",
   "execution_count": null,
   "metadata": {},
   "outputs": [],
   "source": [
    "with open('alternate.json', 'w', encoding='UTF-8') as hey:\n",
    "    json.dump(alternate_list, hey, ensure_ascii=False, indent=4)"
   ]
  },
  {
   "cell_type": "code",
   "execution_count": null,
   "metadata": {},
   "outputs": [],
   "source": [
    "thedf = pd.read_json('alternate.json')\n",
    "thedf # 185 rows. missing 65 results from api."
   ]
  },
  {
   "cell_type": "code",
   "execution_count": null,
   "metadata": {},
   "outputs": [],
   "source": [
    "## Rotten Tomatoes"
   ]
  },
  {
   "cell_type": "code",
   "execution_count": null,
   "metadata": {},
   "outputs": [],
   "source": []
  },
  {
   "cell_type": "code",
   "execution_count": null,
   "metadata": {},
   "outputs": [],
   "source": []
  }
 ],
 "metadata": {
  "kernelspec": {
   "display_name": "Python 3",
   "language": "python",
   "name": "python3"
  },
  "language_info": {
   "codemirror_mode": {
    "name": "ipython",
    "version": 3
   },
   "file_extension": ".py",
   "mimetype": "text/x-python",
   "name": "python",
   "nbconvert_exporter": "python",
   "pygments_lexer": "ipython3",
   "version": "3.7.6"
  }
 },
 "nbformat": 4,
 "nbformat_minor": 4
}
